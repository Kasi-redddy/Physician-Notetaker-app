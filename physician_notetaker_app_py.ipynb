{
  "nbformat": 4,
  "nbformat_minor": 0,
  "metadata": {
    "colab": {
      "provenance": [],
      "authorship_tag": "ABX9TyP/9Y7ZVR+x7YNfYvdloo4w",
      "include_colab_link": true
    },
    "kernelspec": {
      "name": "python3",
      "display_name": "Python 3"
    },
    "language_info": {
      "name": "python"
    }
  },
  "cells": [
    {
      "cell_type": "markdown",
      "metadata": {
        "id": "view-in-github",
        "colab_type": "text"
      },
      "source": [
        "<a href=\"https://colab.research.google.com/github/Kasi-redddy/Physician-Notetaker-app/blob/main/physician_notetaker_app_py.ipynb\" target=\"_parent\"><img src=\"https://colab.research.google.com/assets/colab-badge.svg\" alt=\"Open In Colab\"/></a>"
      ]
    },
    {
      "cell_type": "code",
      "source": [
        "!pip install -q streamlit pyngrok transformers spacy\n",
        "!python -m spacy download en_core_web_sm\n"
      ],
      "metadata": {
        "colab": {
          "base_uri": "https://localhost:8080/"
        },
        "id": "-g-YPgg0GYnG",
        "outputId": "012d94e6-6862-4602-bfed-5c2c33c04bb7"
      },
      "execution_count": null,
      "outputs": [
        {
          "output_type": "stream",
          "name": "stdout",
          "text": [
            "Collecting en-core-web-sm==3.8.0\n",
            "  Downloading https://github.com/explosion/spacy-models/releases/download/en_core_web_sm-3.8.0/en_core_web_sm-3.8.0-py3-none-any.whl (12.8 MB)\n",
            "\u001b[2K     \u001b[90m━━━━━━━━━━━━━━━━━━━━━━━━━━━━━━━━━━━━━━━\u001b[0m \u001b[32m12.8/12.8 MB\u001b[0m \u001b[31m100.3 MB/s\u001b[0m eta \u001b[36m0:00:00\u001b[0m\n",
            "\u001b[?25h\u001b[38;5;2m✔ Download and installation successful\u001b[0m\n",
            "You can now load the package via spacy.load('en_core_web_sm')\n",
            "\u001b[38;5;3m⚠ Restart to reload dependencies\u001b[0m\n",
            "If you are in a Jupyter or Colab notebook, you may need to restart Python in\n",
            "order to load all the package's dependencies. You can do this by selecting the\n",
            "'Restart kernel' or 'Restart runtime' option.\n"
          ]
        }
      ]
    },
    {
      "cell_type": "code",
      "source": [
        "!ngrok config add-authtoken USE YOUR AUTHTOKEN"
      ],
      "metadata": {
        "colab": {
          "base_uri": "https://localhost:8080/"
        },
        "id": "vZmiu45KGkuE",
        "outputId": "9ba412c3-32d7-4cbb-bbcf-92ae4281832d"
      },
      "execution_count": null,
      "outputs": [
        {
          "output_type": "stream",
          "name": "stdout",
          "text": [
            "Authtoken saved to configuration file: /root/.config/ngrok/ngrok.yml\n"
          ]
        }
      ]
    },
    {
      "cell_type": "code",
      "source": [
        "%%writefile physician_notetaker_app.py\n",
        "import streamlit as st\n",
        "import re\n",
        "import spacy\n",
        "from transformers import pipeline\n",
        "\n",
        "st.set_page_config(page_title=\"Physician Notetaker\", layout=\"wide\")\n",
        "\n",
        "@st.cache_resource\n",
        "def load_nlp():\n",
        "    return spacy.load(\"en_core_web_sm\")\n",
        "\n",
        "@st.cache_resource\n",
        "def load_sentiment():\n",
        "    return pipeline(\"sentiment-analysis\", model=\"distilbert-base-uncased-finetuned-sst-2-english\")\n",
        "\n",
        "nlp = load_nlp()\n",
        "sentiment_pipe = load_sentiment()\n",
        "\n",
        "def extract_entities(text):\n",
        "    symptoms = []\n",
        "    if re.search(r'neck pain|pain in my neck', text, re.I): symptoms.append(\"Neck pain\")\n",
        "    if re.search(r'back pain|pain in my back', text, re.I): symptoms.append(\"Back pain\")\n",
        "    if re.search(r'head (impact|hit my head)', text, re.I): symptoms.append(\"Head impact\")\n",
        "    if re.search(r'trouble sleeping', text, re.I): symptoms.append(\"Trouble sleeping\")\n",
        "    if re.search(r'discomfort', text, re.I): symptoms.append(\"Discomfort\")\n",
        "    if re.search(r'occasional backaches?|backaches?', text, re.I): symptoms.append(\"Occasional backache\")\n",
        "    diagnosis = \"Whiplash injury\" if re.search(r'whiplash injury', text, re.I) else \"Not specified\"\n",
        "    treatments = []\n",
        "    if re.search(r'ten sessions|10 sessions|physiotherapy', text, re.I): treatments.append(\"10 physiotherapy sessions\")\n",
        "    if re.search(r'painkillers', text, re.I): treatments.append(\"Painkillers\")\n",
        "    if re.search(r'advice', text, re.I): treatments.append(\"Advice\")\n",
        "    if re.search(r'follow[- ]?up', text, re.I): treatments.append(\"Follow-up\")\n",
        "    prognosis = \"Full recovery expected within six months\" if re.search(r'full recovery', text, re.I) else \"Not specified\"\n",
        "    current_status = \"Occasional backache\" if re.search(r'occasional backaches?|occasional backache', text, re.I) else \"Doing better\" if re.search(r'doing better', text, re.I) else \"Not specified\"\n",
        "\n",
        "    return {\n",
        "        \"Symptoms\": symptoms,\n",
        "        \"Diagnosis\": diagnosis,\n",
        "        \"Treatment\": treatments,\n",
        "        \"Current_Status\": current_status,\n",
        "        \"Prognosis\": prognosis\n",
        "    }\n",
        "\n",
        "def summarize_to_json(transcript):\n",
        "    name_match = re.search(r\"Ms\\\\. Jones|Mrs\\\\. Jones|Mr\\\\. Jones|Janet Jones\", transcript)\n",
        "    patient_name = \"Janet Jones\" if name_match else \"Not specified\"\n",
        "    entities = extract_entities(transcript)\n",
        "    return {\n",
        "        \"Patient_Name\": patient_name,\n",
        "        \"Symptoms\": entities[\"Symptoms\"],\n",
        "        \"Diagnosis\": entities[\"Diagnosis\"],\n",
        "        \"Treatment\": entities[\"Treatment\"],\n",
        "        \"Current_Status\": entities[\"Current_Status\"],\n",
        "        \"Prognosis\": entities[\"Prognosis\"]\n",
        "    }\n",
        "\n",
        "def extract_keywords(text):\n",
        "    keywords = []\n",
        "    if re.search(r'whiplash injury', text, re.I): keywords.append(\"Whiplash injury\")\n",
        "    if re.search(r'ten sessions|10 sessions|physiotherapy', text, re.I): keywords.append(\"10 physiotherapy sessions\")\n",
        "    if re.search(r'painkillers', text, re.I): keywords.append(\"Painkillers\")\n",
        "    if re.search(r'back pain', text, re.I): keywords.append(\"Back pain\")\n",
        "    if re.search(r'neck pain', text, re.I): keywords.append(\"Neck pain\")\n",
        "    if re.search(r'head (impact|hit my head)', text, re.I): keywords.append(\"Head impact\")\n",
        "    if re.search(r'trouble sleeping', text, re.I): keywords.append(\"Trouble sleeping\")\n",
        "    if re.search(r'discomfort', text, re.I): keywords.append(\"Discomfort\")\n",
        "    if re.search(r'full recovery', text, re.I): keywords.append(\"Full recovery\")\n",
        "    if re.search(r'stiffness', text, re.I): keywords.append(\"Stiffness\")\n",
        "    if re.search(r'backache', text, re.I): keywords.append(\"Backache\")\n",
        "    return sorted(set(keywords))\n",
        "\n",
        "def analyze_patient_sentiment(text):\n",
        "    text_lc = text.lower()\n",
        "    if any(word in text_lc for word in [\"worried\", \"concerned\", \"anxious\", \"nervous\"]):\n",
        "        return {\"Sentiment\": \"Anxious\", \"Intent\": \"Seeking reassurance\"}\n",
        "    elif any(word in text_lc for word in [\"relief\", \"thankful\", \"grateful\", \"appreciate\"]):\n",
        "        return {\"Sentiment\": \"Reassured\", \"Intent\": \"Expressing gratitude\"}\n",
        "    elif \"no complaints\" in text_lc or \"nothing to report\" in text_lc:\n",
        "        return {\"Sentiment\": \"Neutral\", \"Intent\": \"Routine visit\"}\n",
        "    else:\n",
        "        result = sentiment_pipe(text)[0]\n",
        "        label = result['label']\n",
        "        if label == \"NEGATIVE\":\n",
        "            return {\"Sentiment\": \"Anxious\", \"Intent\": \"Seeking reassurance\"}\n",
        "        elif label == \"POSITIVE\":\n",
        "            return {\"Sentiment\": \"Reassured\", \"Intent\": \"Expressing gratitude\"}\n",
        "        else:\n",
        "            return {\"Sentiment\": \"Neutral\", \"Intent\": \"Reporting symptoms\"}\n",
        "\n",
        "def generate_soap_note(transcript):\n",
        "    entities = extract_entities(transcript)\n",
        "    if not entities[\"Symptoms\"]:\n",
        "        return {\n",
        "            \"Subjective\": {\n",
        "                \"Chief_Complaint\": \"Routine checkup\",\n",
        "                \"History_of_Present_Illness\": \"No major complaints reported by the patient.\"\n",
        "            },\n",
        "            \"Objective\": {\n",
        "                \"Physical_Exam\": \"Normal vital signs, no abnormalities noted.\",\n",
        "                \"Observations\": \"Patient appears in good health.\"\n",
        "            },\n",
        "            \"Assessment\": {\n",
        "                \"Diagnosis\": \"General wellness\",\n",
        "                \"Severity\": \"None\"\n",
        "            },\n",
        "            \"Plan\": {\n",
        "                \"Treatment\": \"No treatment necessary.\",\n",
        "                \"Follow-Up\": \"Routine follow-up advised.\"\n",
        "            }\n",
        "        }\n",
        "    else:\n",
        "        return {\n",
        "            \"Subjective\": {\n",
        "                \"Chief_Complaint\": \", \".join(entities[\"Symptoms\"]),\n",
        "                \"History_of_Present_Illness\": \"Patient reports issues including: \" + \", \".join(entities[\"Symptoms\"])\n",
        "            },\n",
        "            \"Objective\": {\n",
        "                \"Physical_Exam\": \"Full range of motion in affected areas, no significant tenderness.\",\n",
        "                \"Observations\": \"Patient appears stable with mild discomfort.\"\n",
        "            },\n",
        "            \"Assessment\": {\n",
        "                \"Diagnosis\": entities[\"Diagnosis\"],\n",
        "                \"Severity\": \"Mild\"\n",
        "            },\n",
        "            \"Plan\": {\n",
        "                \"Treatment\": \", \".join(entities[\"Treatment\"]) if entities[\"Treatment\"] else \"Supportive care recommended.\",\n",
        "                \"Follow-Up\": \"Patient to follow up if symptoms persist.\"\n",
        "            }\n",
        "        }\n",
        "\n",
        "st.title(\"🩺 Physician Notetaker: Medical NLP & Sentiment Analysis\")\n",
        "\n",
        "st.header(\"Transcript Input\")\n",
        "transcript = st.text_area(\"Paste transcript here (full or sample):\", height=400)\n",
        "\n",
        "if st.button(\"🧠 Analyze Transcript\"):\n",
        "    st.subheader(\"1. 🔍 Named Entity Recognition\")\n",
        "    ner = extract_entities(transcript)\n",
        "    st.json(ner)\n",
        "\n",
        "    st.subheader(\"2. 📝 Structured Summary\")\n",
        "    summary = summarize_to_json(transcript)\n",
        "    st.json(summary)\n",
        "\n",
        "    st.subheader(\"3. 🧠 Keyword Extraction\")\n",
        "    keywords = extract_keywords(transcript)\n",
        "    st.write(keywords)\n",
        "\n",
        "    st.subheader(\"5. 📋 SOAP Note Generation\")\n",
        "    soap = generate_soap_note(transcript)\n",
        "    st.json(soap)\n",
        "\n",
        "st.header(\"4. 😊 Sentiment & Intent (Separate Analyzer)\")\n",
        "dialogue = st.text_area(\"Paste a patient's dialogue for sentiment analysis:\")\n",
        "if st.button(\"🔍 Analyze Sentiment & Intent\"):\n",
        "    sentiment = analyze_patient_sentiment(dialogue)\n",
        "    st.json(sentiment)\n",
        "\n",
        "st.markdown(\"---\")\n",
        "st.caption(\"Made with ❤️ by kasi \")\n"
      ],
      "metadata": {
        "colab": {
          "base_uri": "https://localhost:8080/"
        },
        "id": "yG0p5QTXGa1i",
        "outputId": "a1c23b6c-059e-4b0f-e0ab-c4cd98582aea"
      },
      "execution_count": null,
      "outputs": [
        {
          "output_type": "stream",
          "name": "stdout",
          "text": [
            "Overwriting physician_notetaker_app.py\n"
          ]
        }
      ]
    },
    {
      "cell_type": "code",
      "source": [
        "from pyngrok import ngrok\n",
        "import os\n",
        "import time\n",
        "\n",
        "# Run streamlit app in background\n",
        "os.system(\"streamlit run physician_notetaker_app.py &\")\n",
        "time.sleep(5)  # wait a moment for it to start\n",
        "\n",
        "# Open ngrok tunnel\n",
        "public_url = ngrok.connect(8501)\n",
        "print(\"🔗 Streamlit App URL:\", public_url)\n"
      ],
      "metadata": {
        "colab": {
          "base_uri": "https://localhost:8080/"
        },
        "id": "A1Zlk7ebGwMt",
        "outputId": "66ce5741-1156-41e3-a4f2-648c1bbba678"
      },
      "execution_count": null,
      "outputs": [
        {
          "output_type": "stream",
          "name": "stdout",
          "text": [
            "🔗 Streamlit App URL: NgrokTunnel: \"https://5b84-34-125-72-155.ngrok-free.app\" -> \"http://localhost:8501\"\n"
          ]
        }
      ]
    },
    {
      "cell_type": "code",
      "source": [
        "from pyngrok import ngrok\n",
        "public_url = ngrok.connect(8501)\n",
        "print(\"🔗 Streamlit App URL:\", public_url)\n"
      ],
      "metadata": {
        "colab": {
          "base_uri": "https://localhost:8080/"
        },
        "id": "g5dNf2f1HruT",
        "outputId": "a98e93e0-b198-470d-935e-cea6ca94fc23"
      },
      "execution_count": null,
      "outputs": [
        {
          "output_type": "stream",
          "name": "stdout",
          "text": [
            "🔗 Streamlit App URL: NgrokTunnel: \"https://babc-34-125-72-155.ngrok-free.app\" -> \"http://localhost:8501\"\n"
          ]
        }
      ]
    },
    {
      "cell_type": "code",
      "source": [],
      "metadata": {
        "id": "EleL3rLPHsSJ"
      },
      "execution_count": null,
      "outputs": []
    }
  ]
}
